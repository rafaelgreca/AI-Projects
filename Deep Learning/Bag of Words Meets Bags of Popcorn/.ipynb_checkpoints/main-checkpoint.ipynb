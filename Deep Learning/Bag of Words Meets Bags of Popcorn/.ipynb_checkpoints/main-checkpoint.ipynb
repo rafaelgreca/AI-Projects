{
 "cells": [
  {
   "cell_type": "code",
   "execution_count": 1,
   "id": "suspended-madagascar",
   "metadata": {},
   "outputs": [],
   "source": [
    "import pandas as pd\n",
    "import numpy as np\n",
    "import seaborn as sns\n",
    "import matplotlib.pyplot as plt\n",
    "import re\n",
    "import tensorflow as tf\n",
    "import warnings\n",
    "import unidecode\n",
    "\n",
    "from sklearn.model_selection import train_test_split\n",
    "from tensorflow import keras\n",
    "from keras.models import Sequential\n",
    "from keras.layers import Dense, Conv1D, MaxPooling1D, Dropout, Embedding, Flatten\n",
    "from keras.preprocessing.text import Tokenizer\n",
    "from keras.preprocessing.sequence import pad_sequences\n",
    "from keras.callbacks import EarlyStopping\n",
    "from nltk.corpus import stopwords\n",
    "from sklearn.metrics import f1_score, confusion_matrix\n",
    "\n",
    "warnings.filterwarnings('ignore')\n",
    "sns.set_style('darkgrid')\n",
    "sw = stopwords.words('english')\n",
    "es=EarlyStopping(patience=4) "
   ]
  },
  {
   "cell_type": "markdown",
   "id": "closing-philippines",
   "metadata": {},
   "source": [
    "## EDA"
   ]
  },
  {
   "cell_type": "code",
   "execution_count": 2,
   "id": "breeding-gathering",
   "metadata": {},
   "outputs": [
    {
     "data": {
      "text/html": [
       "<div>\n",
       "<style scoped>\n",
       "    .dataframe tbody tr th:only-of-type {\n",
       "        vertical-align: middle;\n",
       "    }\n",
       "\n",
       "    .dataframe tbody tr th {\n",
       "        vertical-align: top;\n",
       "    }\n",
       "\n",
       "    .dataframe thead th {\n",
       "        text-align: right;\n",
       "    }\n",
       "</style>\n",
       "<table border=\"1\" class=\"dataframe\">\n",
       "  <thead>\n",
       "    <tr style=\"text-align: right;\">\n",
       "      <th></th>\n",
       "      <th>id</th>\n",
       "      <th>sentiment</th>\n",
       "      <th>review</th>\n",
       "    </tr>\n",
       "  </thead>\n",
       "  <tbody>\n",
       "    <tr>\n",
       "      <th>0</th>\n",
       "      <td>5814_8</td>\n",
       "      <td>1</td>\n",
       "      <td>With all this stuff going down at the moment w...</td>\n",
       "    </tr>\n",
       "    <tr>\n",
       "      <th>1</th>\n",
       "      <td>2381_9</td>\n",
       "      <td>1</td>\n",
       "      <td>\\The Classic War of the Worlds\\\" by Timothy Hi...</td>\n",
       "    </tr>\n",
       "    <tr>\n",
       "      <th>2</th>\n",
       "      <td>7759_3</td>\n",
       "      <td>0</td>\n",
       "      <td>The film starts with a manager (Nicholas Bell)...</td>\n",
       "    </tr>\n",
       "    <tr>\n",
       "      <th>3</th>\n",
       "      <td>3630_4</td>\n",
       "      <td>0</td>\n",
       "      <td>It must be assumed that those who praised this...</td>\n",
       "    </tr>\n",
       "    <tr>\n",
       "      <th>4</th>\n",
       "      <td>9495_8</td>\n",
       "      <td>1</td>\n",
       "      <td>Superbly trashy and wondrously unpretentious 8...</td>\n",
       "    </tr>\n",
       "  </tbody>\n",
       "</table>\n",
       "</div>"
      ],
      "text/plain": [
       "       id  sentiment                                             review\n",
       "0  5814_8          1  With all this stuff going down at the moment w...\n",
       "1  2381_9          1  \\The Classic War of the Worlds\\\" by Timothy Hi...\n",
       "2  7759_3          0  The film starts with a manager (Nicholas Bell)...\n",
       "3  3630_4          0  It must be assumed that those who praised this...\n",
       "4  9495_8          1  Superbly trashy and wondrously unpretentious 8..."
      ]
     },
     "execution_count": 2,
     "metadata": {},
     "output_type": "execute_result"
    }
   ],
   "source": [
    "train = pd.read_csv('data/labeledTrainData.tsv', sep='\\t')\n",
    "test = pd.read_csv('data/testData.tsv', sep='\\t')\n",
    "\n",
    "train.head()"
   ]
  },
  {
   "cell_type": "code",
   "execution_count": 3,
   "id": "progressive-ability",
   "metadata": {},
   "outputs": [
    {
     "data": {
      "text/plain": [
       "(25000, 3)"
      ]
     },
     "execution_count": 3,
     "metadata": {},
     "output_type": "execute_result"
    }
   ],
   "source": [
    "train.shape"
   ]
  },
  {
   "cell_type": "code",
   "execution_count": 4,
   "id": "premier-cocktail",
   "metadata": {},
   "outputs": [
    {
     "data": {
      "text/plain": [
       "Text(0, 0.5, 'Count')"
      ]
     },
     "execution_count": 4,
     "metadata": {},
     "output_type": "execute_result"
    },
    {
     "data": {
      "image/png": "[encoded data removed]",
      "text/plain": [
       "<Figure size 432x360 with 1 Axes>"
      ]
     },
     "metadata": {},
     "output_type": "display_data"
    }
   ],
   "source": [
    "plt.figure(figsize=(6, 5))\n",
    "sns.countplot(data=train, x='sentiment', color='cornflowerblue')\n",
    "plt.xlabel('Sentiment', fontsize=12)\n",
    "plt.ylabel('Count', fontsize=12)"
   ]
  },
  {
   "cell_type": "code",
   "execution_count": 5,
   "id": "revised-dictionary",
   "metadata": {},
   "outputs": [],
   "source": [
    "def check_stopwords(text):\n",
    "    stopwords_founded = [word for word in text.split() if word in sw]\n",
    "    return len(stopwords_founded)"
   ]
  },
  {
   "cell_type": "code",
   "execution_count": 6,
   "id": "commercial-doctor",
   "metadata": {
    "scrolled": true
   },
   "outputs": [
    {
     "data": {
      "text/html": [
       "<div>\n",
       "<style scoped>\n",
       "    .dataframe tbody tr th:only-of-type {\n",
       "        vertical-align: middle;\n",
       "    }\n",
       "\n",
       "    .dataframe tbody tr th {\n",
       "        vertical-align: top;\n",
       "    }\n",
       "\n",
       "    .dataframe thead th {\n",
       "        text-align: right;\n",
       "    }\n",
       "</style>\n",
       "<table border=\"1\" class=\"dataframe\">\n",
       "  <thead>\n",
       "    <tr style=\"text-align: right;\">\n",
       "      <th></th>\n",
       "      <th>id</th>\n",
       "      <th>sentiment</th>\n",
       "      <th>review</th>\n",
       "      <th>words</th>\n",
       "      <th>characters</th>\n",
       "      <th>uppercase</th>\n",
       "      <th>lowercase</th>\n",
       "      <th>stopwords</th>\n",
       "      <th>special_characters</th>\n",
       "      <th>digits</th>\n",
       "      <th>hyperlinks</th>\n",
       "      <th>links</th>\n",
       "    </tr>\n",
       "  </thead>\n",
       "  <tbody>\n",
       "    <tr>\n",
       "      <th>0</th>\n",
       "      <td>5814_8</td>\n",
       "      <td>1</td>\n",
       "      <td>With all this stuff going down at the moment w...</td>\n",
       "      <td>433</td>\n",
       "      <td>2302</td>\n",
       "      <td>59</td>\n",
       "      <td>1742</td>\n",
       "      <td>190</td>\n",
       "      <td>67</td>\n",
       "      <td>2</td>\n",
       "      <td>1</td>\n",
       "      <td>0</td>\n",
       "    </tr>\n",
       "    <tr>\n",
       "      <th>1</th>\n",
       "      <td>2381_9</td>\n",
       "      <td>1</td>\n",
       "      <td>\\The Classic War of the Worlds\\\" by Timothy Hi...</td>\n",
       "      <td>158</td>\n",
       "      <td>946</td>\n",
       "      <td>26</td>\n",
       "      <td>721</td>\n",
       "      <td>69</td>\n",
       "      <td>42</td>\n",
       "      <td>0</td>\n",
       "      <td>0</td>\n",
       "      <td>0</td>\n",
       "    </tr>\n",
       "    <tr>\n",
       "      <th>2</th>\n",
       "      <td>7759_3</td>\n",
       "      <td>0</td>\n",
       "      <td>The film starts with a manager (Nicholas Bell)...</td>\n",
       "      <td>378</td>\n",
       "      <td>2449</td>\n",
       "      <td>75</td>\n",
       "      <td>1907</td>\n",
       "      <td>118</td>\n",
       "      <td>77</td>\n",
       "      <td>13</td>\n",
       "      <td>1</td>\n",
       "      <td>0</td>\n",
       "    </tr>\n",
       "    <tr>\n",
       "      <th>3</th>\n",
       "      <td>3630_4</td>\n",
       "      <td>0</td>\n",
       "      <td>It must be assumed that those who praised this...</td>\n",
       "      <td>379</td>\n",
       "      <td>2245</td>\n",
       "      <td>35</td>\n",
       "      <td>1734</td>\n",
       "      <td>169</td>\n",
       "      <td>94</td>\n",
       "      <td>4</td>\n",
       "      <td>1</td>\n",
       "      <td>0</td>\n",
       "    </tr>\n",
       "    <tr>\n",
       "      <th>4</th>\n",
       "      <td>9495_8</td>\n",
       "      <td>1</td>\n",
       "      <td>Superbly trashy and wondrously unpretentious 8...</td>\n",
       "      <td>367</td>\n",
       "      <td>2231</td>\n",
       "      <td>37</td>\n",
       "      <td>1756</td>\n",
       "      <td>134</td>\n",
       "      <td>68</td>\n",
       "      <td>4</td>\n",
       "      <td>0</td>\n",
       "      <td>0</td>\n",
       "    </tr>\n",
       "  </tbody>\n",
       "</table>\n",
       "</div>"
      ],
      "text/plain": [
       "       id  sentiment                                             review  \\\n",
       "0  5814_8          1  With all this stuff going down at the moment w...   \n",
       "1  2381_9          1  \\The Classic War of the Worlds\\\" by Timothy Hi...   \n",
       "2  7759_3          0  The film starts with a manager (Nicholas Bell)...   \n",
       "3  3630_4          0  It must be assumed that those who praised this...   \n",
       "4  9495_8          1  Superbly trashy and wondrously unpretentious 8...   \n",
       "\n",
       "   words  characters  uppercase  lowercase  stopwords  special_characters  \\\n",
       "0    433        2302         59       1742        190                  67   \n",
       "1    158         946         26        721         69                  42   \n",
       "2    378        2449         75       1907        118                  77   \n",
       "3    379        2245         35       1734        169                  94   \n",
       "4    367        2231         37       1756        134                  68   \n",
       "\n",
       "   digits  hyperlinks  links  \n",
       "0       2           1      0  \n",
       "1       0           0      0  \n",
       "2      13           1      0  \n",
       "3       4           1      0  \n",
       "4       4           0      0  "
      ]
     },
     "execution_count": 6,
     "metadata": {},
     "output_type": "execute_result"
    }
   ],
   "source": [
    "data = train.copy()\n",
    "data['review'] = data['review'].apply(str)\n",
    "data['words'] = data['review'].apply(lambda x: len(x.split()))\n",
    "data['characters'] = data['review'].apply(lambda x: len(x))\n",
    "data['uppercase'] = data['review'].apply(lambda x: len(re.findall(r'[A-Z]', x)))\n",
    "data['lowercase'] = data['review'].apply(lambda x: len(re.findall(r'[a-z]', x)))\n",
    "data['stopwords'] = data['review'].apply(lambda x: check_stopwords(x))\n",
    "data['special_characters'] = data['review'].apply(lambda x: len(re.findall(r'[^\\s\\w\\d]', x)))\n",
    "data['digits'] = data['review'].apply(lambda x: len(re.findall(r'\\d', x)))\n",
    "data['hyperlinks'] = data['review'].apply(lambda x: len(re.findall(r'\\<.*\\>', x)))\n",
    "data['links'] = data['review'].apply(lambda x: len(re.findall(r'https?\\:\\/\\/[^\\s]+|www\\.[^\\s]+', x)))\n",
    "data.head()"
   ]
  },
  {
   "cell_type": "markdown",
   "id": "adverse-explorer",
   "metadata": {},
   "source": [
    "### Words"
   ]
  },
  {
   "cell_type": "code",
   "execution_count": 7,
   "id": "loaded-devon",
   "metadata": {},
   "outputs": [
    {
     "data": {
      "text/plain": [
       "Text(0, 0.5, 'Count')"
      ]
     },
     "execution_count": 7,
     "metadata": {},
     "output_type": "execute_result"
    },
    {
     "data": {
      "image/png": "[encoded data removed]",
      "text/plain": [
       "<Figure size 432x360 with 1 Axes>"
      ]
     },
     "metadata": {},
     "output_type": "display_data"
    }
   ],
   "source": [
    "plt.figure(figsize=(6, 5))\n",
    "sns.histplot(data=data, x='words', color='cornflowerblue', bins=20)\n",
    "plt.xlabel('Words per sentence', fontsize=12)\n",
    "plt.ylabel('Count', fontsize=12)"
   ]
  },
  {
   "cell_type": "code",
   "execution_count": 8,
   "id": "settled-newark",
   "metadata": {},
   "outputs": [
    {
     "name": "stdout",
     "output_type": "stream",
     "text": [
      "Median: 174\n",
      "Max: 2470\n"
     ]
    }
   ],
   "source": [
    "print('Median: {:.0f}'.format(data['words'].median()))\n",
    "print('Max: {}'.format(max(data['words'])))"
   ]
  },
  {
   "cell_type": "markdown",
   "id": "delayed-prison",
   "metadata": {},
   "source": [
    "### Characters"
   ]
  },
  {
   "cell_type": "code",
   "execution_count": 9,
   "id": "acoustic-piano",
   "metadata": {},
   "outputs": [
    {
     "data": {
      "text/plain": [
       "Text(0, 0.5, 'Count')"
      ]
     },
     "execution_count": 9,
     "metadata": {},
     "output_type": "execute_result"
    },
    {
     "data": {
      "image/png": "[encoded data removed]",
      "text/plain": [
       "<Figure size 432x360 with 1 Axes>"
      ]
     },
     "metadata": {},
     "output_type": "display_data"
    }
   ],
   "source": [
    "plt.figure(figsize=(6, 5))\n",
    "sns.histplot(data=data, x='characters', color='cornflowerblue', bins=20)\n",
    "plt.xlabel('Characters')\n",
    "plt.ylabel('Count', fontsize=12)"
   ]
  },
  {
   "cell_type": "code",
   "execution_count": 10,
   "id": "contemporary-potential",
   "metadata": {},
   "outputs": [
    {
     "name": "stdout",
     "output_type": "stream",
     "text": [
      "Median: 981\n",
      "Max: 13708\n"
     ]
    }
   ],
   "source": [
    "print('Median: {:.0f}'.format(data['characters'].median()))\n",
    "print('Max: {}'.format(max(data['characters'])))"
   ]
  },
  {
   "cell_type": "markdown",
   "id": "dependent-genius",
   "metadata": {},
   "source": [
    "### Special Characters"
   ]
  },
  {
   "cell_type": "code",
   "execution_count": 11,
   "id": "peaceful-swedish",
   "metadata": {},
   "outputs": [
    {
     "data": {
      "text/plain": [
       "Text(0, 0.5, 'Count')"
      ]
     },
     "execution_count": 11,
     "metadata": {},
     "output_type": "execute_result"
    },
    {
     "data": {
      "image/png": "[encoded data removed]",
      "text/plain": [
       "<Figure size 432x360 with 1 Axes>"
      ]
     },
     "metadata": {},
     "output_type": "display_data"
    }
   ],
   "source": [
    "plt.figure(figsize=(6, 5))\n",
    "sns.histplot(data=data, x='special_characters', color='cornflowerblue', bins=20)\n",
    "plt.xlabel('Special Characters')\n",
    "plt.ylabel('Count', fontsize=12)"
   ]
  },
  {
   "cell_type": "code",
   "execution_count": 12,
   "id": "needed-flush",
   "metadata": {},
   "outputs": [
    {
     "name": "stdout",
     "output_type": "stream",
     "text": [
      "Median: 42\n",
      "Max: 598\n"
     ]
    }
   ],
   "source": [
    "print('Median: {:.0f}'.format(data['special_characters'].median()))\n",
    "print('Max: {}'.format(max(data['special_characters'])))"
   ]
  },
  {
   "cell_type": "markdown",
   "id": "consistent-momentum",
   "metadata": {},
   "source": [
    "### Uppercase"
   ]
  },
  {
   "cell_type": "code",
   "execution_count": 13,
   "id": "dynamic-surveillance",
   "metadata": {},
   "outputs": [
    {
     "data": {
      "text/plain": [
       "Text(0, 0.5, 'Count')"
      ]
     },
     "execution_count": 13,
     "metadata": {},
     "output_type": "execute_result"
    },
    {
     "data": {
      "image/png": "[encoded data removed]",
      "text/plain": [
       "<Figure size 432x360 with 1 Axes>"
      ]
     },
     "metadata": {},
     "output_type": "display_data"
    }
   ],
   "source": [
    "plt.figure(figsize=(6, 5))\n",
    "sns.histplot(data=data, x='uppercase', color='cornflowerblue', bins=20)\n",
    "plt.xlabel('Uppercase')\n",
    "plt.ylabel('Count', fontsize=12)"
   ]
  },
  {
   "cell_type": "code",
   "execution_count": 14,
   "id": "hundred-classroom",
   "metadata": {},
   "outputs": [
    {
     "name": "stdout",
     "output_type": "stream",
     "text": [
      "Median: 26\n",
      "Max: 749\n"
     ]
    }
   ],
   "source": [
    "print('Median: {:.0f}'.format(data['uppercase'].median()))\n",
    "print('Max: {}'.format(max(data['uppercase'])))"
   ]
  },
  {
   "cell_type": "markdown",
   "id": "medieval-alert",
   "metadata": {},
   "source": [
    "### Lowercase"
   ]
  },
  {
   "cell_type": "code",
   "execution_count": 15,
   "id": "swiss-guard",
   "metadata": {},
   "outputs": [
    {
     "data": {
      "text/plain": [
       "Text(0, 0.5, 'Count')"
      ]
     },
     "execution_count": 15,
     "metadata": {},
     "output_type": "execute_result"
    },
    {
     "data": {
      "image/png": "[encoded data removed]",
      "text/plain": [
       "<Figure size 432x360 with 1 Axes>"
      ]
     },
     "metadata": {},
     "output_type": "display_data"
    }
   ],
   "source": [
    "plt.figure(figsize=(6, 5))\n",
    "sns.histplot(data=data, x='lowercase', color='cornflowerblue', bins=20)\n",
    "plt.xlabel('Lowercase')\n",
    "plt.ylabel('Count', fontsize=12)"
   ]
  },
  {
   "cell_type": "code",
   "execution_count": 16,
   "id": "laughing-clarity",
   "metadata": {},
   "outputs": [
    {
     "name": "stdout",
     "output_type": "stream",
     "text": [
      "Median: 737\n",
      "Max: 10189\n"
     ]
    }
   ],
   "source": [
    "print('Median: {:.0f}'.format(data['lowercase'].median()))\n",
    "print('Max: {}'.format(max(data['lowercase'])))"
   ]
  },
  {
   "cell_type": "markdown",
   "id": "temporal-migration",
   "metadata": {},
   "source": [
    "### Digits"
   ]
  },
  {
   "cell_type": "code",
   "execution_count": 17,
   "id": "prepared-impression",
   "metadata": {},
   "outputs": [
    {
     "data": {
      "text/plain": [
       "Text(0, 0.5, 'Count')"
      ]
     },
     "execution_count": 17,
     "metadata": {},
     "output_type": "execute_result"
    },
    {
     "data": {
      "image/png": "[encoded data removed]",
      "text/plain": [
       "<Figure size 432x360 with 1 Axes>"
      ]
     },
     "metadata": {},
     "output_type": "display_data"
    }
   ],
   "source": [
    "plt.figure(figsize=(6, 5))\n",
    "sns.histplot(data=data, x='digits', color='cornflowerblue', bins=20)\n",
    "plt.xlabel('Digits')\n",
    "plt.ylabel('Count', fontsize=12)"
   ]
  },
  {
   "cell_type": "code",
   "execution_count": 18,
   "id": "russian-confidence",
   "metadata": {},
   "outputs": [
    {
     "name": "stdout",
     "output_type": "stream",
     "text": [
      "Median: 2\n",
      "Max: 185\n"
     ]
    }
   ],
   "source": [
    "print('Median: {:.0f}'.format(data['digits'].median()))\n",
    "print('Max: {}'.format(max(data['digits'])))"
   ]
  },
  {
   "cell_type": "markdown",
   "id": "polished-insider",
   "metadata": {},
   "source": [
    "### Stopwords"
   ]
  },
  {
   "cell_type": "code",
   "execution_count": 19,
   "id": "limiting-vacuum",
   "metadata": {},
   "outputs": [
    {
     "data": {
      "text/plain": [
       "Text(0, 0.5, 'Count')"
      ]
     },
     "execution_count": 19,
     "metadata": {},
     "output_type": "execute_result"
    },
    {
     "data": {
      "image/png": "[encoded data removed]",
      "text/plain": [
       "<Figure size 432x360 with 1 Axes>"
      ]
     },
     "metadata": {},
     "output_type": "display_data"
    }
   ],
   "source": [
    "plt.figure(figsize=(6, 5))\n",
    "sns.histplot(data=data, x='stopwords', color='cornflowerblue', bins=20)\n",
    "plt.xlabel('Stopwords')\n",
    "plt.ylabel('Count', fontsize=12)"
   ]
  },
  {
   "cell_type": "code",
   "execution_count": 20,
   "id": "robust-teacher",
   "metadata": {},
   "outputs": [
    {
     "name": "stdout",
     "output_type": "stream",
     "text": [
      "Median: 72\n",
      "Max: 938\n"
     ]
    }
   ],
   "source": [
    "print('Median: {:.0f}'.format(data['stopwords'].median()))\n",
    "print('Max: {}'.format(max(data['stopwords'])))"
   ]
  },
  {
   "cell_type": "markdown",
   "id": "historic-glory",
   "metadata": {},
   "source": [
    "### Hyperlinks"
   ]
  },
  {
   "cell_type": "code",
   "execution_count": 21,
   "id": "promising-framework",
   "metadata": {},
   "outputs": [
    {
     "data": {
      "text/plain": [
       "Text(0, 0.5, 'Count')"
      ]
     },
     "execution_count": 21,
     "metadata": {},
     "output_type": "execute_result"
    },
    {
     "data": {
      "image/png": "[encoded data removed]",
      "text/plain": [
       "<Figure size 432x360 with 1 Axes>"
      ]
     },
     "metadata": {},
     "output_type": "display_data"
    }
   ],
   "source": [
    "plt.figure(figsize=(6, 5))\n",
    "sns.histplot(data=data, x='hyperlinks', color='cornflowerblue', bins=20)\n",
    "plt.xlabel('Hyperlinks')\n",
    "plt.ylabel('Count', fontsize=12)"
   ]
  },
  {
   "cell_type": "code",
   "execution_count": 22,
   "id": "continuous-pricing",
   "metadata": {},
   "outputs": [
    {
     "name": "stdout",
     "output_type": "stream",
     "text": [
      "Median: 1\n",
      "Max: 1\n"
     ]
    }
   ],
   "source": [
    "print('Median: {:.0f}'.format(data['hyperlinks'].median()))\n",
    "print('Max: {}'.format(max(data['hyperlinks'])))"
   ]
  },
  {
   "cell_type": "markdown",
   "id": "freelance-journey",
   "metadata": {},
   "source": [
    "### Links"
   ]
  },
  {
   "cell_type": "code",
   "execution_count": 23,
   "id": "prescribed-lithuania",
   "metadata": {},
   "outputs": [
    {
     "data": {
      "text/plain": [
       "Text(0, 0.5, 'Count')"
      ]
     },
     "execution_count": 23,
     "metadata": {},
     "output_type": "execute_result"
    },
    {
     "data": {
      "image/png": "[encoded data removed]",
      "text/plain": [
       "<Figure size 432x360 with 1 Axes>"
      ]
     },
     "metadata": {},
     "output_type": "display_data"
    }
   ],
   "source": [
    "plt.figure(figsize=(6, 5))\n",
    "sns.histplot(data=data, x='links', color='cornflowerblue', bins=20)\n",
    "plt.xlabel('Links')\n",
    "plt.ylabel('Count', fontsize=12)"
   ]
  },
  {
   "cell_type": "code",
   "execution_count": 24,
   "id": "light-passenger",
   "metadata": {},
   "outputs": [
    {
     "name": "stdout",
     "output_type": "stream",
     "text": [
      "Median: 0\n",
      "Max: 3\n"
     ]
    }
   ],
   "source": [
    "print('Median: {:.0f}'.format(data['links'].median()))\n",
    "print('Max: {}'.format(max(data['links'])))"
   ]
  },
  {
   "cell_type": "code",
   "execution_count": 25,
   "id": "cooked-administration",
   "metadata": {},
   "outputs": [],
   "source": [
    "del data"
   ]
  },
  {
   "cell_type": "markdown",
   "id": "alone-chrome",
   "metadata": {},
   "source": [
    "## Preprocessing"
   ]
  },
  {
   "cell_type": "code",
   "execution_count": 26,
   "id": "european-patch",
   "metadata": {},
   "outputs": [],
   "source": [
    "def remove_stopwords(text):\n",
    "    non_stopwords = [word for word in text.split() if word not in sw]\n",
    "    return ' '.join(non_stopwords)\n",
    "\n",
    "def remove_digits(text):\n",
    "    non_digits = re.sub(r'\\d+', ' ', text)\n",
    "    return non_digits\n",
    "\n",
    "def format_spaces(text):\n",
    "    spaces_formated = re.sub(r'\\s+', ' ', text)\n",
    "    spaces_formated = spaces_formated.strip()\n",
    "    return spaces_formated\n",
    "\n",
    "def remove_accents(text):\n",
    "    no_accents = unidecode.unidecode(text)\n",
    "    return no_accents\n",
    "\n",
    "def remove_specials(text):\n",
    "    no_special_characters = re.sub(r'[^\\s\\w\\d]+', ' ', text)\n",
    "    return no_special_characters\n",
    "\n",
    "def remove_one_len_word(text):\n",
    "    no_one_len_word = re.sub(r'\\b[a-z]\\b', ' ', text)\n",
    "    return no_one_len_word\n",
    "\n",
    "def remove_hyperlinks(text):\n",
    "    no_hyperlink = re.sub(r'\\<.*\\>', ' ', text)\n",
    "    return no_hyperlink\n",
    "\n",
    "def remove_links(text):\n",
    "    text = re.sub(r'http\\:\\/\\/[^\\s]+', ' ', text)\n",
    "    text = re.sub(r'www\\.[^\\s]+', ' ', text)\n",
    "    return text\n",
    "    \n",
    "def preprocessing(data):\n",
    "    data = pd.Series(data)\n",
    "    data = data.apply(str)\n",
    "    data = data.apply(remove_hyperlinks)\n",
    "    data = data.apply(remove_links)\n",
    "    data = data.apply(lambda x: x.lower())\n",
    "    data = data.apply(remove_digits)\n",
    "    data = data.apply(remove_accents)\n",
    "    data = data.apply(remove_specials)\n",
    "    data = data.apply(remove_stopwords)\n",
    "    data = data.apply(remove_one_len_word)\n",
    "    data = data.apply(format_spaces)\n",
    "    return data"
   ]
  },
  {
   "cell_type": "code",
   "execution_count": 27,
   "id": "looking-hybrid",
   "metadata": {},
   "outputs": [
    {
     "name": "stdout",
     "output_type": "stream",
     "text": [
      "CPU times: user 1min 10s, sys: 372 ms, total: 1min 11s\n",
      "Wall time: 1min 11s\n"
     ]
    },
    {
     "data": {
      "text/plain": [
       "(25000, 4)"
      ]
     },
     "execution_count": 27,
     "metadata": {},
     "output_type": "execute_result"
    }
   ],
   "source": [
    "%%time\n",
    "train['review_cleaned'] = train['review'].apply(preprocessing)\n",
    "train = train.drop_duplicates()\n",
    "train = train.dropna()\n",
    "train.shape"
   ]
  },
  {
   "cell_type": "code",
   "execution_count": 28,
   "id": "radio-polish",
   "metadata": {},
   "outputs": [
    {
     "data": {
      "text/html": [
       "<div>\n",
       "<style scoped>\n",
       "    .dataframe tbody tr th:only-of-type {\n",
       "        vertical-align: middle;\n",
       "    }\n",
       "\n",
       "    .dataframe tbody tr th {\n",
       "        vertical-align: top;\n",
       "    }\n",
       "\n",
       "    .dataframe thead th {\n",
       "        text-align: right;\n",
       "    }\n",
       "</style>\n",
       "<table border=\"1\" class=\"dataframe\">\n",
       "  <thead>\n",
       "    <tr style=\"text-align: right;\">\n",
       "      <th></th>\n",
       "      <th>id</th>\n",
       "      <th>sentiment</th>\n",
       "      <th>review</th>\n",
       "      <th>review_cleaned</th>\n",
       "    </tr>\n",
       "  </thead>\n",
       "  <tbody>\n",
       "    <tr>\n",
       "      <th>0</th>\n",
       "      <td>5814_8</td>\n",
       "      <td>1</td>\n",
       "      <td>With all this stuff going down at the moment w...</td>\n",
       "      <td>stuff going moment mj started listening music ...</td>\n",
       "    </tr>\n",
       "    <tr>\n",
       "      <th>1</th>\n",
       "      <td>2381_9</td>\n",
       "      <td>1</td>\n",
       "      <td>\\The Classic War of the Worlds\\\" by Timothy Hi...</td>\n",
       "      <td>classic war worlds timothy hines entertaining ...</td>\n",
       "    </tr>\n",
       "    <tr>\n",
       "      <th>2</th>\n",
       "      <td>7759_3</td>\n",
       "      <td>0</td>\n",
       "      <td>The film starts with a manager (Nicholas Bell)...</td>\n",
       "      <td>film starts manager nicholas bell giving welco...</td>\n",
       "    </tr>\n",
       "    <tr>\n",
       "      <th>3</th>\n",
       "      <td>3630_4</td>\n",
       "      <td>0</td>\n",
       "      <td>It must be assumed that those who praised this...</td>\n",
       "      <td>must assumed praised film greatest filmed oper...</td>\n",
       "    </tr>\n",
       "    <tr>\n",
       "      <th>4</th>\n",
       "      <td>9495_8</td>\n",
       "      <td>1</td>\n",
       "      <td>Superbly trashy and wondrously unpretentious 8...</td>\n",
       "      <td>superbly trashy wondrously unpretentious explo...</td>\n",
       "    </tr>\n",
       "    <tr>\n",
       "      <th>5</th>\n",
       "      <td>8196_8</td>\n",
       "      <td>1</td>\n",
       "      <td>I dont know why people think this is such a ba...</td>\n",
       "      <td>dont know people think bad movie got pretty go...</td>\n",
       "    </tr>\n",
       "    <tr>\n",
       "      <th>6</th>\n",
       "      <td>7166_2</td>\n",
       "      <td>0</td>\n",
       "      <td>This movie could have been very good, but come...</td>\n",
       "      <td>movie could good comes way short cheesy specia...</td>\n",
       "    </tr>\n",
       "    <tr>\n",
       "      <th>7</th>\n",
       "      <td>10633_1</td>\n",
       "      <td>0</td>\n",
       "      <td>I watched this video at a friend's house. I'm ...</td>\n",
       "      <td>watched video friend house glad waste money bu...</td>\n",
       "    </tr>\n",
       "    <tr>\n",
       "      <th>8</th>\n",
       "      <td>319_1</td>\n",
       "      <td>0</td>\n",
       "      <td>A friend of mine bought this film for £1, and ...</td>\n",
       "      <td>friend mine bought film PS even grossly overpr...</td>\n",
       "    </tr>\n",
       "    <tr>\n",
       "      <th>9</th>\n",
       "      <td>8713_10</td>\n",
       "      <td>1</td>\n",
       "      <td>&lt;br /&gt;&lt;br /&gt;This movie is full of references. ...</td>\n",
       "      <td>movie full references like mad max ii wild one...</td>\n",
       "    </tr>\n",
       "  </tbody>\n",
       "</table>\n",
       "</div>"
      ],
      "text/plain": [
       "        id  sentiment                                             review  \\\n",
       "0   5814_8          1  With all this stuff going down at the moment w...   \n",
       "1   2381_9          1  \\The Classic War of the Worlds\\\" by Timothy Hi...   \n",
       "2   7759_3          0  The film starts with a manager (Nicholas Bell)...   \n",
       "3   3630_4          0  It must be assumed that those who praised this...   \n",
       "4   9495_8          1  Superbly trashy and wondrously unpretentious 8...   \n",
       "5   8196_8          1  I dont know why people think this is such a ba...   \n",
       "6   7166_2          0  This movie could have been very good, but come...   \n",
       "7  10633_1          0  I watched this video at a friend's house. I'm ...   \n",
       "8    319_1          0  A friend of mine bought this film for £1, and ...   \n",
       "9  8713_10          1  <br /><br />This movie is full of references. ...   \n",
       "\n",
       "                                      review_cleaned  \n",
       "0  stuff going moment mj started listening music ...  \n",
       "1  classic war worlds timothy hines entertaining ...  \n",
       "2  film starts manager nicholas bell giving welco...  \n",
       "3  must assumed praised film greatest filmed oper...  \n",
       "4  superbly trashy wondrously unpretentious explo...  \n",
       "5  dont know people think bad movie got pretty go...  \n",
       "6  movie could good comes way short cheesy specia...  \n",
       "7  watched video friend house glad waste money bu...  \n",
       "8  friend mine bought film PS even grossly overpr...  \n",
       "9  movie full references like mad max ii wild one...  "
      ]
     },
     "execution_count": 28,
     "metadata": {},
     "output_type": "execute_result"
    }
   ],
   "source": [
    "train.head(10)"
   ]
  },
  {
   "cell_type": "code",
   "execution_count": 29,
   "id": "measured-tennessee",
   "metadata": {},
   "outputs": [],
   "source": [
    "train['len_before'] = train['review'].apply(lambda x: len(x.split()))\n",
    "train['len_after'] = train['review_cleaned'].apply(lambda x: len(x.split()))"
   ]
  },
  {
   "cell_type": "code",
   "execution_count": 30,
   "id": "killing-hours",
   "metadata": {},
   "outputs": [
    {
     "data": {
      "text/plain": [
       "<matplotlib.legend.Legend at 0x7f3dc8cc46a0>"
      ]
     },
     "execution_count": 30,
     "metadata": {},
     "output_type": "execute_result"
    },
    {
     "data": {
      "image/png": "[encoded data removed]",
      "text/plain": [
       "<Figure size 432x360 with 1 Axes>"
      ]
     },
     "metadata": {},
     "output_type": "display_data"
    }
   ],
   "source": [
    "plt.figure(figsize=(6, 5))\n",
    "sns.histplot(data=train, x='len_before', color='cornflowerblue', label='before', bins=10)\n",
    "sns.histplot(data=train, x='len_after', color='lightgreen', label='after', bins=10)\n",
    "plt.ylabel('Count', fontsize=12)\n",
    "plt.xlabel(\"Sentence's length\", fontsize=12)\n",
    "plt.legend()"
   ]
  },
  {
   "cell_type": "code",
   "execution_count": 31,
   "id": "horizontal-convert",
   "metadata": {},
   "outputs": [
    {
     "name": "stdout",
     "output_type": "stream",
     "text": [
      "----- Before -----\n",
      "Median: 174\n",
      "Max: 2470\n",
      "\n",
      "----- After -----\n",
      "Median: 61\n",
      "Max: 544\n"
     ]
    }
   ],
   "source": [
    "print('----- Before -----')\n",
    "print('Median: {:.0f}'.format(train['len_before'].median()))\n",
    "print('Max: {}'.format(max(train['len_before'])))\n",
    "print('\\n----- After -----')\n",
    "print('Median: {:.0f}'.format(train['len_after'].median()))\n",
    "print('Max: {}'.format(max(train['len_after'])))"
   ]
  },
  {
   "cell_type": "code",
   "execution_count": 32,
   "id": "upset-implement",
   "metadata": {},
   "outputs": [],
   "source": [
    "max_words = 60"
   ]
  },
  {
   "cell_type": "code",
   "execution_count": 33,
   "id": "guided-thomson",
   "metadata": {},
   "outputs": [
    {
     "data": {
      "text/html": [
       "<div>\n",
       "<style scoped>\n",
       "    .dataframe tbody tr th:only-of-type {\n",
       "        vertical-align: middle;\n",
       "    }\n",
       "\n",
       "    .dataframe tbody tr th {\n",
       "        vertical-align: top;\n",
       "    }\n",
       "\n",
       "    .dataframe thead th {\n",
       "        text-align: right;\n",
       "    }\n",
       "</style>\n",
       "<table border=\"1\" class=\"dataframe\">\n",
       "  <thead>\n",
       "    <tr style=\"text-align: right;\">\n",
       "      <th></th>\n",
       "      <th>sentiment</th>\n",
       "      <th>review</th>\n",
       "      <th>review_cleaned</th>\n",
       "      <th>review_tokenized</th>\n",
       "    </tr>\n",
       "  </thead>\n",
       "  <tbody>\n",
       "    <tr>\n",
       "      <th>0</th>\n",
       "      <td>1</td>\n",
       "      <td>With all this stuff going down at the moment w...</td>\n",
       "      <td>stuff going moment mj started listening music ...</td>\n",
       "      <td>[377, 74, 569, 9497, 459, 2620, 113, 46, 885, ...</td>\n",
       "    </tr>\n",
       "    <tr>\n",
       "      <th>1</th>\n",
       "      <td>1</td>\n",
       "      <td>\\The Classic War of the Worlds\\\" by Timothy Hi...</td>\n",
       "      <td>classic war worlds timothy hines entertaining ...</td>\n",
       "      <td>[181, 218, 2906, 3220, 5809, 256, 2, 406, 191,...</td>\n",
       "    </tr>\n",
       "    <tr>\n",
       "      <th>2</th>\n",
       "      <td>0</td>\n",
       "      <td>The film starts with a manager (Nicholas Bell)...</td>\n",
       "      <td>film starts manager nicholas bell giving welco...</td>\n",
       "      <td>[2, 418, 3003, 4031, 3331, 613, 2271, 19059, 4...</td>\n",
       "    </tr>\n",
       "    <tr>\n",
       "      <th>3</th>\n",
       "      <td>0</td>\n",
       "      <td>It must be assumed that those who praised this...</td>\n",
       "      <td>must assumed praised film greatest filmed oper...</td>\n",
       "      <td>[87, 4556, 4280, 2, 563, 608, 1221, 30, 177, 1...</td>\n",
       "    </tr>\n",
       "    <tr>\n",
       "      <th>4</th>\n",
       "      <td>1</td>\n",
       "      <td>Superbly trashy and wondrously unpretentious 8...</td>\n",
       "      <td>superbly trashy wondrously unpretentious explo...</td>\n",
       "      <td>[3152, 3262, 35853, 9144, 1701, 11801, 1450, 7...</td>\n",
       "    </tr>\n",
       "  </tbody>\n",
       "</table>\n",
       "</div>"
      ],
      "text/plain": [
       "   sentiment                                             review  \\\n",
       "0          1  With all this stuff going down at the moment w...   \n",
       "1          1  \\The Classic War of the Worlds\\\" by Timothy Hi...   \n",
       "2          0  The film starts with a manager (Nicholas Bell)...   \n",
       "3          0  It must be assumed that those who praised this...   \n",
       "4          1  Superbly trashy and wondrously unpretentious 8...   \n",
       "\n",
       "                                      review_cleaned  \\\n",
       "0  stuff going moment mj started listening music ...   \n",
       "1  classic war worlds timothy hines entertaining ...   \n",
       "2  film starts manager nicholas bell giving welco...   \n",
       "3  must assumed praised film greatest filmed oper...   \n",
       "4  superbly trashy wondrously unpretentious explo...   \n",
       "\n",
       "                                    review_tokenized  \n",
       "0  [377, 74, 569, 9497, 459, 2620, 113, 46, 885, ...  \n",
       "1  [181, 218, 2906, 3220, 5809, 256, 2, 406, 191,...  \n",
       "2  [2, 418, 3003, 4031, 3331, 613, 2271, 19059, 4...  \n",
       "3  [87, 4556, 4280, 2, 563, 608, 1221, 30, 177, 1...  \n",
       "4  [3152, 3262, 35853, 9144, 1701, 11801, 1450, 7...  "
      ]
     },
     "execution_count": 33,
     "metadata": {},
     "output_type": "execute_result"
    }
   ],
   "source": [
    "train = train.drop(columns=['len_before', 'len_after', 'id'])\n",
    "tokenizer = Tokenizer()\n",
    "tokenizer.fit_on_texts(train['review_cleaned'])\n",
    "train['review_tokenized'] = tokenizer.texts_to_sequences(train['review_cleaned'])\n",
    "train.head()"
   ]
  },
  {
   "cell_type": "code",
   "execution_count": 34,
   "id": "protecting-nevada",
   "metadata": {},
   "outputs": [
    {
     "data": {
      "text/plain": [
       "57992"
      ]
     },
     "execution_count": 34,
     "metadata": {},
     "output_type": "execute_result"
    }
   ],
   "source": [
    "total_words = len(tokenizer.word_index) + 1\n",
    "total_words"
   ]
  },
  {
   "cell_type": "code",
   "execution_count": 35,
   "id": "structured-mounting",
   "metadata": {},
   "outputs": [
    {
     "data": {
      "text/plain": [
       "(25000, 60)"
      ]
     },
     "execution_count": 35,
     "metadata": {},
     "output_type": "execute_result"
    }
   ],
   "source": [
    "sequences_padded = pad_sequences(train['review_tokenized'], maxlen=max_words, padding='post')\n",
    "sequences_padded.shape"
   ]
  },
  {
   "cell_type": "code",
   "execution_count": 36,
   "id": "gross-jones",
   "metadata": {},
   "outputs": [
    {
     "data": {
      "text/plain": [
       "array([[ 1495,    13,  4279, ..., 19058,   260,  1381],\n",
       "       [ 5809,  2664,   131, ...,  1099, 10288,  4928],\n",
       "       [16069,  5482,  1889, ...,   638,   990,  4555],\n",
       "       ...,\n",
       "       [  136,  3005,    20, ...,    20,   213,     0],\n",
       "       [ 3037,  1458,  3178, ...,   232,  1746,    16],\n",
       "       [ 5295,  4932,    35, ...,   815,    72,   359]], dtype=int32)"
      ]
     },
     "execution_count": 36,
     "metadata": {},
     "output_type": "execute_result"
    }
   ],
   "source": [
    "sequences_padded"
   ]
  },
  {
   "cell_type": "markdown",
   "id": "brave-austria",
   "metadata": {},
   "source": [
    "## Model"
   ]
  },
  {
   "cell_type": "code",
   "execution_count": 37,
   "id": "noted-jacob",
   "metadata": {},
   "outputs": [],
   "source": [
    "model = Sequential()\n",
    "model.add(Embedding(input_dim=total_words,\n",
    "                    output_dim=50,\n",
    "                    input_length=max_words))\n",
    "model.add(Conv1D(filters=32,\n",
    "                 kernel_size=3,\n",
    "                 padding='same',\n",
    "                 activation='relu'))\n",
    "model.add(MaxPooling1D())\n",
    "model.add(Conv1D(filters=64,\n",
    "                 kernel_size=5,\n",
    "                 padding='same',\n",
    "                 activation='relu'))\n",
    "model.add(MaxPooling1D())\n",
    "model.add(Dropout(rate=0.2))\n",
    "model.add(Flatten())\n",
    "model.add(Dense(units=64,\n",
    "                activation='relu'))\n",
    "model.add(Dense(units=1,\n",
    "                activation='sigmoid'))"
   ]
  },
  {
   "cell_type": "code",
   "execution_count": 38,
   "id": "functioning-woman",
   "metadata": {},
   "outputs": [
    {
     "name": "stdout",
     "output_type": "stream",
     "text": [
      "Model: \"sequential\"\n",
      "_________________________________________________________________\n",
      "Layer (type)                 Output Shape              Param #   \n",
      "=================================================================\n",
      "embedding (Embedding)        (None, 60, 50)            2899600   \n",
      "_________________________________________________________________\n",
      "conv1d (Conv1D)              (None, 60, 32)            4832      \n",
      "_________________________________________________________________\n",
      "max_pooling1d (MaxPooling1D) (None, 30, 32)            0         \n",
      "_________________________________________________________________\n",
      "conv1d_1 (Conv1D)            (None, 30, 64)            10304     \n",
      "_________________________________________________________________\n",
      "max_pooling1d_1 (MaxPooling1 (None, 15, 64)            0         \n",
      "_________________________________________________________________\n",
      "dropout (Dropout)            (None, 15, 64)            0         \n",
      "_________________________________________________________________\n",
      "flatten (Flatten)            (None, 960)               0         \n",
      "_________________________________________________________________\n",
      "dense (Dense)                (None, 64)                61504     \n",
      "_________________________________________________________________\n",
      "dense_1 (Dense)              (None, 1)                 65        \n",
      "=================================================================\n",
      "Total params: 2,976,305\n",
      "Trainable params: 2,976,305\n",
      "Non-trainable params: 0\n",
      "_________________________________________________________________\n"
     ]
    }
   ],
   "source": [
    "model.summary()"
   ]
  },
  {
   "cell_type": "markdown",
   "id": "current-barrel",
   "metadata": {},
   "source": [
    "### Training"
   ]
  },
  {
   "cell_type": "code",
   "execution_count": 39,
   "id": "approved-identifier",
   "metadata": {},
   "outputs": [],
   "source": [
    "X = sequences_padded\n",
    "y = train['sentiment']"
   ]
  },
  {
   "cell_type": "code",
   "execution_count": 40,
   "id": "extensive-initial",
   "metadata": {},
   "outputs": [],
   "source": [
    "X_train, X_test, y_train, y_test = train_test_split(X, y, test_size=0.15, random_state=23)"
   ]
  },
  {
   "cell_type": "code",
   "execution_count": 41,
   "id": "general-portland",
   "metadata": {},
   "outputs": [],
   "source": [
    "model.compile(optimizer='adam',\n",
    "              loss='binary_crossentropy',\n",
    "              metrics=['accuracy'])"
   ]
  },
  {
   "cell_type": "code",
   "execution_count": 42,
   "id": "informative-thread",
   "metadata": {},
   "outputs": [
    {
     "name": "stdout",
     "output_type": "stream",
     "text": [
      "Epoch 1/15\n",
      "625/625 [==============================] - 44s 50ms/step - loss: 0.5866 - accuracy: 0.6252 - val_loss: 0.0000e+00 - val_accuracy: 0.0000e+00\n",
      "Epoch 2/15\n",
      "625/625 [==============================] - 30s 48ms/step - loss: 0.1964 - accuracy: 0.9236 - val_loss: 0.0000e+00 - val_accuracy: 0.0000e+00\n",
      "Epoch 3/15\n",
      "625/625 [==============================] - 29s 47ms/step - loss: 0.0602 - accuracy: 0.9815 - val_loss: 0.0000e+00 - val_accuracy: 0.0000e+00\n",
      "Epoch 4/15\n",
      "625/625 [==============================] - 30s 47ms/step - loss: 0.0175 - accuracy: 0.9949 - val_loss: 0.0000e+00 - val_accuracy: 0.0000e+00\n",
      "Epoch 5/15\n",
      "625/625 [==============================] - 29s 47ms/step - loss: 0.0091 - accuracy: 0.9973 - val_loss: 0.0000e+00 - val_accuracy: 0.0000e+00\n",
      "CPU times: user 6min 24s, sys: 21.7 s, total: 6min 46s\n",
      "Wall time: 2min 42s\n"
     ]
    }
   ],
   "source": [
    "%%time\n",
    "history = model.fit(X_train,\n",
    "                    y_train,\n",
    "                    batch_size=32,\n",
    "                    epochs=15,\n",
    "                    validation_data=[X_test, y_test],\n",
    "                    callbacks=[es])"
   ]
  },
  {
   "cell_type": "code",
   "execution_count": 43,
   "id": "talented-sarah",
   "metadata": {},
   "outputs": [
    {
     "data": {
      "image/png": "[encoded data removed]",
      "text/plain": [
       "<Figure size 432x288 with 1 Axes>"
      ]
     },
     "metadata": {},
     "output_type": "display_data"
    },
    {
     "data": {
      "image/png": "[encoded data removed]",
      "text/plain": [
       "<Figure size 432x288 with 1 Axes>"
      ]
     },
     "metadata": {},
     "output_type": "display_data"
    }
   ],
   "source": [
    "plt.plot(history.history['accuracy'])\n",
    "plt.title('model accuracy')\n",
    "plt.ylabel('accuracy')\n",
    "plt.xlabel('epoch')\n",
    "plt.show()\n",
    "\n",
    "plt.plot(history.history['loss'])\n",
    "plt.title('model loss')\n",
    "plt.ylabel('loss')\n",
    "plt.xlabel('epoch')\n",
    "plt.show()"
   ]
  },
  {
   "cell_type": "code",
   "execution_count": 44,
   "id": "hollywood-athletics",
   "metadata": {},
   "outputs": [
    {
     "name": "stdout",
     "output_type": "stream",
     "text": [
      "Model's Loss: 1.1376 \n",
      "Model's Score: 0.8212\n"
     ]
    }
   ],
   "source": [
    "loss, score = model.evaluate(X_test, y_test, batch_size=32, verbose=0)\n",
    "\n",
    "print(\"Model's Loss: {:.4f} \\nModel's Score: {:.4f}\".format(loss, score))"
   ]
  },
  {
   "cell_type": "code",
   "execution_count": 45,
   "id": "neither-machine",
   "metadata": {},
   "outputs": [
    {
     "name": "stdout",
     "output_type": "stream",
     "text": [
      "F1-score: 0.8148\n"
     ]
    }
   ],
   "source": [
    "predicted = model.predict_classes(X_test, batch_size=32)\n",
    "print('F1-score: {:.4f}'.format(f1_score(predicted, y_test)))"
   ]
  },
  {
   "cell_type": "code",
   "execution_count": 46,
   "id": "written-recipient",
   "metadata": {},
   "outputs": [
    {
     "data": {
      "text/plain": [
       "<matplotlib.axes._subplots.AxesSubplot at 0x7f3dbe681850>"
      ]
     },
     "execution_count": 46,
     "metadata": {},
     "output_type": "execute_result"
    },
    {
     "data": {
      "image/png": "[encoded data removed]",
      "text/plain": [
       "<Figure size 504x360 with 2 Axes>"
      ]
     },
     "metadata": {},
     "output_type": "display_data"
    }
   ],
   "source": [
    "plt.figure(figsize=(7, 5))\n",
    "plt.title('Confusion Matrix - Normal embedding model', fontsize=13)\n",
    "sns.heatmap(confusion_matrix(predicted, y_test), annot = True, fmt='.4g', cmap='Blues')"
   ]
  },
  {
   "cell_type": "markdown",
   "id": "rolled-ethnic",
   "metadata": {},
   "source": [
    "## Glove Embedding"
   ]
  },
  {
   "cell_type": "code",
   "execution_count": 47,
   "id": "short-defensive",
   "metadata": {},
   "outputs": [],
   "source": [
    "def loadGloveModel(file):\n",
    "    f = open(file,'r')\n",
    "    model = dict()\n",
    "    \n",
    "    for line in f:\n",
    "        splitLines = line.split()\n",
    "        word = splitLines[0]\n",
    "        embedding = np.array([float(value) for value in splitLines[1:]])\n",
    "        model[word] = embedding\n",
    "    \n",
    "    return model"
   ]
  },
  {
   "cell_type": "code",
   "execution_count": 48,
   "id": "bigger-gentleman",
   "metadata": {},
   "outputs": [
    {
     "name": "stdout",
     "output_type": "stream",
     "text": [
      "CPU times: user 37.5 s, sys: 1.01 s, total: 38.5 s\n",
      "Wall time: 38.5 s\n"
     ]
    }
   ],
   "source": [
    "%%time\n",
    "glove = loadGloveModel('glove.6B.300d.txt')"
   ]
  },
  {
   "cell_type": "code",
   "execution_count": 49,
   "id": "proud-fiber",
   "metadata": {},
   "outputs": [],
   "source": [
    "embedding = np.zeros((total_words, 300))\n",
    "\n",
    "for word, index in tokenizer.word_index.items():\n",
    "    try:\n",
    "        embedding[index] = glove[word]\n",
    "    except:\n",
    "        continue"
   ]
  },
  {
   "cell_type": "code",
   "execution_count": 50,
   "id": "identified-cross",
   "metadata": {},
   "outputs": [],
   "source": [
    "model_glove = Sequential()\n",
    "model_glove.add(Embedding(input_dim=total_words, \n",
    "                output_dim=300, \n",
    "                input_length=max_words,\n",
    "                weights=[embedding],\n",
    "                trainable=False))\n",
    "model_glove.add(Conv1D(filters=32,\n",
    "                 kernel_size=3,\n",
    "                 padding='same',\n",
    "                 activation='relu'))\n",
    "model_glove.add(MaxPooling1D())\n",
    "model_glove.add(Conv1D(filters=64,\n",
    "                 kernel_size=5,\n",
    "                 padding='same',\n",
    "                 activation='relu'))\n",
    "model_glove.add(MaxPooling1D())\n",
    "model_glove.add(Dropout(rate=0.2))\n",
    "model_glove.add(Flatten())\n",
    "model_glove.add(Dense(units=64,\n",
    "                activation='relu'))\n",
    "model_glove.add(Dense(units=1,\n",
    "                activation='sigmoid'))"
   ]
  },
  {
   "cell_type": "code",
   "execution_count": 51,
   "id": "aboriginal-uganda",
   "metadata": {},
   "outputs": [],
   "source": [
    "model_glove.compile(optimizer='adam',\n",
    "                    loss='binary_crossentropy',\n",
    "                    metrics=['accuracy'])"
   ]
  },
  {
   "cell_type": "markdown",
   "id": "expired-monday",
   "metadata": {},
   "source": [
    "### Training"
   ]
  },
  {
   "cell_type": "code",
   "execution_count": 52,
   "id": "civil-surprise",
   "metadata": {},
   "outputs": [
    {
     "name": "stdout",
     "output_type": "stream",
     "text": [
      "Epoch 1/15\n",
      "625/625 [==============================] - 11s 15ms/step - loss: 0.5626 - accuracy: 0.6858 - val_loss: 0.0000e+00 - val_accuracy: 0.0000e+00\n",
      "Epoch 2/15\n",
      "625/625 [==============================] - 9s 15ms/step - loss: 0.3899 - accuracy: 0.8244 - val_loss: 0.0000e+00 - val_accuracy: 0.0000e+00\n",
      "Epoch 3/15\n",
      "625/625 [==============================] - 9s 15ms/step - loss: 0.3367 - accuracy: 0.8514 - val_loss: 0.0000e+00 - val_accuracy: 0.0000e+00\n",
      "Epoch 4/15\n",
      "625/625 [==============================] - 10s 16ms/step - loss: 0.2621 - accuracy: 0.8934 - val_loss: 0.0000e+00 - val_accuracy: 0.0000e+00\n",
      "Epoch 5/15\n",
      "625/625 [==============================] - 10s 15ms/step - loss: 0.2108 - accuracy: 0.9183 - val_loss: 0.0000e+00 - val_accuracy: 0.0000e+00\n",
      "CPU times: user 1min 52s, sys: 4.23 s, total: 1min 56s\n",
      "Wall time: 49.1 s\n"
     ]
    }
   ],
   "source": [
    "%%time\n",
    "history = model_glove.fit(X_train,\n",
    "                          y_train,\n",
    "                          batch_size=32,\n",
    "                          epochs=15,\n",
    "                          validation_data=[X_test, y_test],\n",
    "                          callbacks=[es])"
   ]
  },
  {
   "cell_type": "code",
   "execution_count": 53,
   "id": "owned-western",
   "metadata": {},
   "outputs": [
    {
     "name": "stdout",
     "output_type": "stream",
     "text": [
      "GloVe's model Loss: 0.5008 \n",
      "GloVe's model Score: 0.8076\n"
     ]
    }
   ],
   "source": [
    "loss, score = model_glove.evaluate(X_test, y_test, batch_size=32, verbose=0)\n",
    "\n",
    "print(\"GloVe's model Loss: {:.4f} \\nGloVe's model Score: {:.4f}\".format(loss, score))"
   ]
  },
  {
   "cell_type": "code",
   "execution_count": 54,
   "id": "lonely-appreciation",
   "metadata": {},
   "outputs": [
    {
     "name": "stdout",
     "output_type": "stream",
     "text": [
      "F1-score: 0.8136\n"
     ]
    }
   ],
   "source": [
    "predicted = model_glove.predict_classes(X_test, batch_size=32)\n",
    "print('F1-score: {:.4f}'.format(f1_score(predicted, y_test)))"
   ]
  },
  {
   "cell_type": "code",
   "execution_count": 55,
   "id": "fancy-trustee",
   "metadata": {},
   "outputs": [
    {
     "data": {
      "text/plain": [
       "<matplotlib.axes._subplots.AxesSubplot at 0x7f3dbffca310>"
      ]
     },
     "execution_count": 55,
     "metadata": {},
     "output_type": "execute_result"
    },
    {
     "data": {
      "image/png": "[encoded data removed]",
      "text/plain": [
       "<Figure size 504x360 with 2 Axes>"
      ]
     },
     "metadata": {},
     "output_type": "display_data"
    }
   ],
   "source": [
    "plt.figure(figsize=(7, 5))\n",
    "plt.title('Confusion Matrix - GloVe embedding model', fontsize=13)\n",
    "sns.heatmap(confusion_matrix(predicted, y_test), annot = True, fmt='.4g', cmap='Blues')"
   ]
  },
  {
   "cell_type": "markdown",
   "id": "colonial-transaction",
   "metadata": {},
   "source": [
    "## Predicting"
   ]
  },
  {
   "cell_type": "code",
   "execution_count": 56,
   "id": "international-livestock",
   "metadata": {},
   "outputs": [
    {
     "data": {
      "text/plain": [
       "(25000, 1)"
      ]
     },
     "execution_count": 56,
     "metadata": {},
     "output_type": "execute_result"
    }
   ],
   "source": [
    "test_id = test['id']\n",
    "test = test.drop(columns=['id'])\n",
    "test.shape"
   ]
  },
  {
   "cell_type": "code",
   "execution_count": 57,
   "id": "sustained-franklin",
   "metadata": {},
   "outputs": [
    {
     "name": "stdout",
     "output_type": "stream",
     "text": [
      "CPU times: user 1min 20s, sys: 441 ms, total: 1min 20s\n",
      "Wall time: 1min 21s\n"
     ]
    },
    {
     "data": {
      "text/html": [
       "<div>\n",
       "<style scoped>\n",
       "    .dataframe tbody tr th:only-of-type {\n",
       "        vertical-align: middle;\n",
       "    }\n",
       "\n",
       "    .dataframe tbody tr th {\n",
       "        vertical-align: top;\n",
       "    }\n",
       "\n",
       "    .dataframe thead th {\n",
       "        text-align: right;\n",
       "    }\n",
       "</style>\n",
       "<table border=\"1\" class=\"dataframe\">\n",
       "  <thead>\n",
       "    <tr style=\"text-align: right;\">\n",
       "      <th></th>\n",
       "      <th>review</th>\n",
       "      <th>review_cleaned</th>\n",
       "    </tr>\n",
       "  </thead>\n",
       "  <tbody>\n",
       "    <tr>\n",
       "      <th>0</th>\n",
       "      <td>Naturally in a film who's main themes are of m...</td>\n",
       "      <td>naturally film main themes mortality nostalgia...</td>\n",
       "    </tr>\n",
       "    <tr>\n",
       "      <th>1</th>\n",
       "      <td>This movie is a disaster within a disaster fil...</td>\n",
       "      <td>movie disaster within disaster film full great...</td>\n",
       "    </tr>\n",
       "    <tr>\n",
       "      <th>2</th>\n",
       "      <td>All in all, this is a movie for kids. We saw i...</td>\n",
       "      <td>movie kids saw tonight child loved one point k...</td>\n",
       "    </tr>\n",
       "    <tr>\n",
       "      <th>3</th>\n",
       "      <td>Afraid of the Dark left me with the impression...</td>\n",
       "      <td>afraid dark left impression several different ...</td>\n",
       "    </tr>\n",
       "    <tr>\n",
       "      <th>4</th>\n",
       "      <td>A very accurate depiction of small time mob li...</td>\n",
       "      <td>accurate depiction small time mob life filmed ...</td>\n",
       "    </tr>\n",
       "  </tbody>\n",
       "</table>\n",
       "</div>"
      ],
      "text/plain": [
       "                                              review  \\\n",
       "0  Naturally in a film who's main themes are of m...   \n",
       "1  This movie is a disaster within a disaster fil...   \n",
       "2  All in all, this is a movie for kids. We saw i...   \n",
       "3  Afraid of the Dark left me with the impression...   \n",
       "4  A very accurate depiction of small time mob li...   \n",
       "\n",
       "                                      review_cleaned  \n",
       "0  naturally film main themes mortality nostalgia...  \n",
       "1  movie disaster within disaster film full great...  \n",
       "2  movie kids saw tonight child loved one point k...  \n",
       "3  afraid dark left impression several different ...  \n",
       "4  accurate depiction small time mob life filmed ...  "
      ]
     },
     "execution_count": 57,
     "metadata": {},
     "output_type": "execute_result"
    }
   ],
   "source": [
    "%%time\n",
    "test['review_cleaned'] = test['review'].apply(preprocessing)\n",
    "test.head()"
   ]
  },
  {
   "cell_type": "code",
   "execution_count": 58,
   "id": "athletic-maine",
   "metadata": {},
   "outputs": [
    {
     "data": {
      "text/html": [
       "<div>\n",
       "<style scoped>\n",
       "    .dataframe tbody tr th:only-of-type {\n",
       "        vertical-align: middle;\n",
       "    }\n",
       "\n",
       "    .dataframe tbody tr th {\n",
       "        vertical-align: top;\n",
       "    }\n",
       "\n",
       "    .dataframe thead th {\n",
       "        text-align: right;\n",
       "    }\n",
       "</style>\n",
       "<table border=\"1\" class=\"dataframe\">\n",
       "  <thead>\n",
       "    <tr style=\"text-align: right;\">\n",
       "      <th></th>\n",
       "      <th>review</th>\n",
       "      <th>review_cleaned</th>\n",
       "      <th>review_tokenized</th>\n",
       "    </tr>\n",
       "  </thead>\n",
       "  <tbody>\n",
       "    <tr>\n",
       "      <th>0</th>\n",
       "      <td>Naturally in a film who's main themes are of m...</td>\n",
       "      <td>naturally film main themes mortality nostalgia...</td>\n",
       "      <td>[1827, 2, 204, 1212, 14350, 4244, 1925, 3057, ...</td>\n",
       "    </tr>\n",
       "    <tr>\n",
       "      <th>1</th>\n",
       "      <td>This movie is a disaster within a disaster fil...</td>\n",
       "      <td>movie disaster within disaster film full great...</td>\n",
       "      <td>[1, 1341, 699, 1341, 2, 250, 14, 101, 55, 3173...</td>\n",
       "    </tr>\n",
       "    <tr>\n",
       "      <th>2</th>\n",
       "      <td>All in all, this is a movie for kids. We saw i...</td>\n",
       "      <td>movie kids saw tonight child loved one point k...</td>\n",
       "      <td>[1, 227, 72, 3839, 359, 243, 3, 134, 378, 2171...</td>\n",
       "    </tr>\n",
       "    <tr>\n",
       "      <th>3</th>\n",
       "      <td>Afraid of the Dark left me with the impression...</td>\n",
       "      <td>afraid dark left impression several different ...</td>\n",
       "      <td>[1486, 322, 202, 1253, 321, 159, 6912, 255, 21...</td>\n",
       "    </tr>\n",
       "    <tr>\n",
       "      <th>4</th>\n",
       "      <td>A very accurate depiction of small time mob li...</td>\n",
       "      <td>accurate depiction small time mob life filmed ...</td>\n",
       "      <td>[1461, 2500, 277, 6, 3031, 35, 608, 65, 6816, ...</td>\n",
       "    </tr>\n",
       "  </tbody>\n",
       "</table>\n",
       "</div>"
      ],
      "text/plain": [
       "                                              review  \\\n",
       "0  Naturally in a film who's main themes are of m...   \n",
       "1  This movie is a disaster within a disaster fil...   \n",
       "2  All in all, this is a movie for kids. We saw i...   \n",
       "3  Afraid of the Dark left me with the impression...   \n",
       "4  A very accurate depiction of small time mob li...   \n",
       "\n",
       "                                      review_cleaned  \\\n",
       "0  naturally film main themes mortality nostalgia...   \n",
       "1  movie disaster within disaster film full great...   \n",
       "2  movie kids saw tonight child loved one point k...   \n",
       "3  afraid dark left impression several different ...   \n",
       "4  accurate depiction small time mob life filmed ...   \n",
       "\n",
       "                                    review_tokenized  \n",
       "0  [1827, 2, 204, 1212, 14350, 4244, 1925, 3057, ...  \n",
       "1  [1, 1341, 699, 1341, 2, 250, 14, 101, 55, 3173...  \n",
       "2  [1, 227, 72, 3839, 359, 243, 3, 134, 378, 2171...  \n",
       "3  [1486, 322, 202, 1253, 321, 159, 6912, 255, 21...  \n",
       "4  [1461, 2500, 277, 6, 3031, 35, 608, 65, 6816, ...  "
      ]
     },
     "execution_count": 58,
     "metadata": {},
     "output_type": "execute_result"
    }
   ],
   "source": [
    "test['review_tokenized'] = tokenizer.texts_to_sequences(test['review_cleaned'])\n",
    "test.head()"
   ]
  },
  {
   "cell_type": "code",
   "execution_count": 59,
   "id": "composed-virgin",
   "metadata": {},
   "outputs": [
    {
     "data": {
      "text/plain": [
       "array([[  307,   790,   605, ...,  4448,  4069,   758],\n",
       "       [18461, 21394,  1327, ...,     6,  3173,  1375],\n",
       "       [  134,   378,  2171, ...,   253, 22281,   282],\n",
       "       ...,\n",
       "       [  659, 23806,  1755, ...,   154,    11,   470],\n",
       "       [  561,   727,   901, ...,     0,     0,     0],\n",
       "       [  834,   464,   242, ...,   112,  1405,     3]], dtype=int32)"
      ]
     },
     "execution_count": 59,
     "metadata": {},
     "output_type": "execute_result"
    }
   ],
   "source": [
    "test_padded = pad_sequences(test['review_tokenized'], maxlen=max_words, padding='post')\n",
    "test_padded"
   ]
  },
  {
   "cell_type": "code",
   "execution_count": 60,
   "id": "abroad-treasury",
   "metadata": {},
   "outputs": [
    {
     "data": {
      "text/plain": [
       "(25000, 60)"
      ]
     },
     "execution_count": 60,
     "metadata": {},
     "output_type": "execute_result"
    }
   ],
   "source": [
    "test_padded.shape"
   ]
  },
  {
   "cell_type": "code",
   "execution_count": 61,
   "id": "related-programming",
   "metadata": {},
   "outputs": [
    {
     "data": {
      "text/html": [
       "<div>\n",
       "<style scoped>\n",
       "    .dataframe tbody tr th:only-of-type {\n",
       "        vertical-align: middle;\n",
       "    }\n",
       "\n",
       "    .dataframe tbody tr th {\n",
       "        vertical-align: top;\n",
       "    }\n",
       "\n",
       "    .dataframe thead th {\n",
       "        text-align: right;\n",
       "    }\n",
       "</style>\n",
       "<table border=\"1\" class=\"dataframe\">\n",
       "  <thead>\n",
       "    <tr style=\"text-align: right;\">\n",
       "      <th></th>\n",
       "      <th>id</th>\n",
       "      <th>sentiment</th>\n",
       "    </tr>\n",
       "  </thead>\n",
       "  <tbody>\n",
       "    <tr>\n",
       "      <th>0</th>\n",
       "      <td>12311_10</td>\n",
       "      <td>1</td>\n",
       "    </tr>\n",
       "    <tr>\n",
       "      <th>1</th>\n",
       "      <td>8348_2</td>\n",
       "      <td>0</td>\n",
       "    </tr>\n",
       "    <tr>\n",
       "      <th>2</th>\n",
       "      <td>5828_4</td>\n",
       "      <td>1</td>\n",
       "    </tr>\n",
       "    <tr>\n",
       "      <th>3</th>\n",
       "      <td>7186_2</td>\n",
       "      <td>0</td>\n",
       "    </tr>\n",
       "    <tr>\n",
       "      <th>4</th>\n",
       "      <td>12128_7</td>\n",
       "      <td>1</td>\n",
       "    </tr>\n",
       "  </tbody>\n",
       "</table>\n",
       "</div>"
      ],
      "text/plain": [
       "         id  sentiment\n",
       "0  12311_10          1\n",
       "1    8348_2          0\n",
       "2    5828_4          1\n",
       "3    7186_2          0\n",
       "4   12128_7          1"
      ]
     },
     "execution_count": 61,
     "metadata": {},
     "output_type": "execute_result"
    }
   ],
   "source": [
    "predicted = model_glove.predict_classes(test_padded, batch_size=32)\n",
    "\n",
    "prediction = pd.DataFrame()\n",
    "prediction['id'] = test_id\n",
    "prediction['sentiment'] = predicted\n",
    "prediction.head()"
   ]
  },
  {
   "cell_type": "code",
   "execution_count": 62,
   "id": "impossible-teach",
   "metadata": {},
   "outputs": [
    {
     "data": {
      "text/plain": [
       "Text(0, 0.5, 'Sentiment')"
      ]
     },
     "execution_count": 62,
     "metadata": {},
     "output_type": "execute_result"
    },
    {
     "data": {
      "image/png": "[encoded data removed]",
      "text/plain": [
       "<Figure size 504x360 with 1 Axes>"
      ]
     },
     "metadata": {},
     "output_type": "display_data"
    }
   ],
   "source": [
    "plt.figure(figsize=(7, 5))\n",
    "plt.title('Classes predicted', fontsize=14)\n",
    "sns.countplot(data=prediction, x='sentiment', color='cornflowerblue')\n",
    "plt.xlabel('Count', fontsize=13)\n",
    "plt.ylabel('Sentiment', fontsize=13)"
   ]
  },
  {
   "cell_type": "code",
   "execution_count": 63,
   "id": "broadband-lloyd",
   "metadata": {},
   "outputs": [],
   "source": [
    "prediction.to_csv('submission2.csv', index=False)"
   ]
  }
 ],
 "metadata": {
  "kernelspec": {
   "display_name": "Python 3",
   "language": "python",
   "name": "python3"
  },
  "language_info": {
   "codemirror_mode": {
    "name": "ipython",
    "version": 3
   },
   "file_extension": ".py",
   "mimetype": "text/x-python",
   "name": "python",
   "nbconvert_exporter": "python",
   "pygments_lexer": "ipython3",
   "version": "3.8.10"
  }
 },
 "nbformat": 4,
 "nbformat_minor": 5
}
